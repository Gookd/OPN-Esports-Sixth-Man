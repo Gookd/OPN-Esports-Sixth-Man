{
 "cells": [
  {
   "cell_type": "markdown",
   "id": "b5f63242",
   "metadata": {},
   "source": [
    "# Selectionner colonnes et lignes intéressantes"
   ]
  },
  {
   "cell_type": "code",
   "execution_count": 8,
   "id": "6abe5bfe",
   "metadata": {},
   "outputs": [
    {
     "name": "stdout",
     "output_type": "stream",
     "text": [
      "Nombre de games de Karmine Corp en tant que team : 106\n",
      "Nombre de games de Nisqy : 21\n"
     ]
    },
    {
     "name": "stderr",
     "output_type": "stream",
     "text": [
      "C:\\Users\\jerem\\AppData\\Local\\Temp\\ipykernel_20412\\3236830742.py:3: DtypeWarning: Columns (2) have mixed types. Specify dtype option on import or set low_memory=False.\n",
      "  df = pd.read_csv(\"2025_Lol_esports_match_data_from_OraclesElixir.csv\")\n"
     ]
    }
   ],
   "source": [
    "import pandas as pd\n",
    "\n",
    "df = pd.read_csv(\"2025_Lol_esports_match_data_from_OraclesElixir.csv\") \n",
    "\n",
    "nb_games_kcorp = df[(df['teamname'] == 'Karmine Corp') & (df['position'] == 'team')].shape[0]\n",
    "\n",
    "print(\"Nombre de games de Karmine Corp en tant que team :\", nb_games_kcorp)\n",
    "\n",
    "nb_games_nisqy = df[df['playername'] == 'Nisqy'].shape[0]\n",
    "\n",
    "print(\"Nombre de games de Nisqy :\", nb_games_nisqy)"
   ]
  }
 ],
 "metadata": {
  "kernelspec": {
   "display_name": "Python 3",
   "language": "python",
   "name": "python3"
  },
  "language_info": {
   "codemirror_mode": {
    "name": "ipython",
    "version": 3
   },
   "file_extension": ".py",
   "mimetype": "text/x-python",
   "name": "python",
   "nbconvert_exporter": "python",
   "pygments_lexer": "ipython3",
   "version": "3.11.9"
  }
 },
 "nbformat": 4,
 "nbformat_minor": 5
}
